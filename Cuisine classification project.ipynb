{
 "cells": [
  {
   "cell_type": "code",
   "execution_count": 3,
   "id": "1ca7addc",
   "metadata": {},
   "outputs": [],
   "source": [
    "import pandas as pd\n",
    "from sklearn.model_selection import train_test_split\n",
    "from sklearn.linear_model import LogisticRegression\n",
    "\n",
    "# Read the cuisine data\n",
    "data = pd.read_csv('C:/Users/SONY/Documents/CSV_Files/cuisines (1).csv')\n",
    "\n",
    "# Split the data into features (X) and labels (y)\n",
    "X = data.drop('cuisine', axis=1)\n",
    "y = data['cuisine']\n",
    "\n",
    "# Split the data into training and testing sets\n",
    "X_train, X_test, y_train, y_test = train_test_split(X, y, test_size=0.2, random_state=42)\n",
    "\n",
    "# Initialize the logistic regression model\n",
    "model = LogisticRegression()\n",
    "\n",
    "# Train the model\n",
    "model.fit(X_train, y_train)\n",
    "\n",
    "# Make predictions on the test set\n",
    "predictions = model.predict(X_test)"
   ]
  },
  {
   "cell_type": "code",
   "execution_count": 4,
   "id": "690bd0a0",
   "metadata": {},
   "outputs": [
    {
     "name": "stdout",
     "output_type": "stream",
     "text": [
      "accuracy: \n",
      "0.636734693877551\n",
      "precision :\n",
      "0.647942953971484\n",
      "0.636734693877551\n",
      "F1 Score\n",
      "0.6129995646057166\n"
     ]
    }
   ],
   "source": [
    "from sklearn.metrics import accuracy_score, precision_score, recall_score, f1_score\n",
    "\n",
    "# Calculate accuracy\n",
    "accuracy = accuracy_score(y_test, predictions)\n",
    "print(\"accuracy: \")\n",
    "print(accuracy)\n",
    "\n",
    "# Calculate precision\n",
    "precision = precision_score(y_test, predictions, average='weighted')\n",
    "print(\"precision :\")\n",
    "print(precision)\n",
    "\n",
    "# Calculate recall\n",
    "recall = recall_score(y_test, predictions, average='weighted')\n",
    "print(recall)\n",
    "\n",
    "# Calculate F1 score\n",
    "f1 = f1_score(y_test, predictions, average='weighted')s\n",
    "print(\"F1 Score\")\n",
    "print(f1)"
   ]
  }
 ],
 "metadata": {
  "kernelspec": {
   "display_name": "Python 3 (ipykernel)",
   "language": "python",
   "name": "python3"
  },
  "language_info": {
   "codemirror_mode": {
    "name": "ipython",
    "version": 3
   },
   "file_extension": ".py",
   "mimetype": "text/x-python",
   "name": "python",
   "nbconvert_exporter": "python",
   "pygments_lexer": "ipython3",
   "version": "3.11.4"
  }
 },
 "nbformat": 4,
 "nbformat_minor": 5
}
